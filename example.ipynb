{
 "cells": [
  {
   "cell_type": "code",
   "execution_count": 4,
   "metadata": {},
   "outputs": [],
   "source": [
    "from __future__ import print_function\n",
    "from keras.models import load_model\n",
    "from keras.preprocessing.text import Tokenizer\n",
    "from keras.preprocessing.sequence import pad_sequences\n",
    "import sys\n",
    "import os\n",
    "\n",
    "MAX_SEQUENCE_LENGTH = 1000\n",
    "MAX_NB_WORDS = 20000\n",
    "\n",
    "def tokenize_data(X_raw):\n",
    "    tokenizer = Tokenizer(num_words=MAX_NB_WORDS)\n",
    "    tokenizer.fit_on_texts(X_raw)\n",
    "    sequences = tokenizer.texts_to_sequences(X_raw)\n",
    "    word_index = tokenizer.word_index\n",
    "    X_processed = pad_sequences(sequences, maxlen=MAX_SEQUENCE_LENGTH)\n",
    "    return X_processed, word_index\n"
   ]
  },
  {
   "cell_type": "code",
   "execution_count": 5,
   "metadata": {},
   "outputs": [],
   "source": [
    "os.environ['CUDA_VISIBLE_DEVICES'] = '0'  # str(random.randint(0, 15))\n",
    "X = 'Ethereum Safe Water Token Airdrop #1: Ensure Safe drinking water. Airdrop is open: @waterdroptoken #ESW #airdrop… https://t.co/qYooAZuMf4'\n",
    "\n",
    "X_raw = [X]\n",
    "\n",
    "X, word_index = tokenize_data(X_raw)\n",
    "\n",
    "\n"
   ]
  },
  {
   "cell_type": "code",
   "execution_count": 7,
   "metadata": {},
   "outputs": [
    {
     "data": {
      "text/plain": [
       "{'1': 6,\n",
       " 'airdrop': 3,\n",
       " 'airdrop\\xe2\\x80\\xa6': 13,\n",
       " 'co': 16,\n",
       " 'drinking': 8,\n",
       " 'ensure': 7,\n",
       " 'esw': 12,\n",
       " 'ethereum': 4,\n",
       " 'https': 14,\n",
       " 'is': 9,\n",
       " 'open': 10,\n",
       " 'qyooazumf4': 17,\n",
       " 'safe': 1,\n",
       " 't': 15,\n",
       " 'token': 5,\n",
       " 'water': 2,\n",
       " 'waterdroptoken': 11}"
      ]
     },
     "execution_count": 7,
     "metadata": {},
     "output_type": "execute_result"
    }
   ],
   "source": [
    "word_index"
   ]
  },
  {
   "cell_type": "code",
   "execution_count": 14,
   "metadata": {},
   "outputs": [
    {
     "ename": "TypeError",
     "evalue": "make_model() takes exactly 2 arguments (0 given)",
     "output_type": "error",
     "traceback": [
      "\u001b[0;31m---------------------------------------------------------------------------\u001b[0m",
      "\u001b[0;31mTypeError\u001b[0m                                 Traceback (most recent call last)",
      "\u001b[0;32m<ipython-input-14-1cdf7d049a7e>\u001b[0m in \u001b[0;36m<module>\u001b[0;34m()\u001b[0m\n\u001b[1;32m      1\u001b[0m \u001b[0;32mfrom\u001b[0m \u001b[0mtrain\u001b[0m \u001b[0;32mimport\u001b[0m \u001b[0mmake_model\u001b[0m\u001b[0;34m\u001b[0m\u001b[0m\n\u001b[0;32m----> 2\u001b[0;31m \u001b[0mmodel\u001b[0m \u001b[0;34m=\u001b[0m \u001b[0mmake_model\u001b[0m\u001b[0;34m(\u001b[0m\u001b[0;34m)\u001b[0m\u001b[0;34m\u001b[0m\u001b[0m\n\u001b[0m\u001b[1;32m      3\u001b[0m \u001b[0;31m#load_model('./model.h5')\u001b[0m\u001b[0;34m\u001b[0m\u001b[0;34m\u001b[0m\u001b[0m\n\u001b[1;32m      4\u001b[0m \u001b[0;31m#model.load_weights('./weights.h5')\u001b[0m\u001b[0;34m\u001b[0m\u001b[0;34m\u001b[0m\u001b[0m\n\u001b[1;32m      5\u001b[0m \u001b[0;31m#\u001b[0m\u001b[0;34m\u001b[0m\u001b[0;34m\u001b[0m\u001b[0m\n",
      "\u001b[0;31mTypeError\u001b[0m: make_model() takes exactly 2 arguments (0 given)"
     ]
    }
   ],
   "source": [
    "from train import make_model\n",
    "model = make_model()\n",
    "#load_model('./model.h5')\n",
    "#model.load_weights('./weights.h5')\n",
    "#\n",
    "#predictions = model.predict(x=X, batch_size=128)\n",
    "#\n",
    "#for index, txt in enumerate(X_raw):\n",
    "#    is_positive = predictions[index][1] >= 0.5\n",
    "#    status_txt = \"Positive\" if is_positive else \"Negative\"\n",
    "#    print(\"[\",status_txt,\"] \", txt)\n",
    "\n"
   ]
  }
 ],
 "metadata": {
  "kernelspec": {
   "display_name": "Python 2",
   "language": "python",
   "name": "python2"
  },
  "language_info": {
   "codemirror_mode": {
    "name": "ipython",
    "version": 2
   },
   "file_extension": ".py",
   "mimetype": "text/x-python",
   "name": "python",
   "nbconvert_exporter": "python",
   "pygments_lexer": "ipython2",
   "version": "2.7.6"
  }
 },
 "nbformat": 4,
 "nbformat_minor": 2
}
